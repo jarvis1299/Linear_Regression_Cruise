{
  "cells": [
    {
      "cell_type": "code",
      "execution_count": null,
      "metadata": {
        "id": "Cd7-M6r1K2Pt"
      },
      "outputs": [],
      "source": [
        "!apt-get install openjdk-8-jdk-headless -qq > /dev/null\n",
        "\n",
        "# install spark (change the version number if needed)\n",
        "!wget -q https://archive.apache.org/dist/spark/spark-3.0.0/spark-3.0.0-bin-hadoop3.2.tgz\n",
        "\n",
        "# unzip the spark file to the current folder\n",
        "!tar xf spark-3.0.0-bin-hadoop3.2.tgz\n",
        "\n",
        "# set your spark folder to your system path environment. \n",
        "import os\n",
        "os.environ[\"JAVA_HOME\"] = \"/usr/lib/jvm/java-8-openjdk-amd64\"\n",
        "os.environ[\"SPARK_HOME\"] = \"/content/spark-3.0.0-bin-hadoop3.2\"\n",
        "\n",
        "\n",
        "# install findspark using pip\n",
        "!pip install -q findspark"
      ]
    },
    {
      "cell_type": "code",
      "execution_count": null,
      "metadata": {
        "id": "TfE7rKbHLW3r"
      },
      "outputs": [],
      "source": [
        "import findspark\n",
        "findspark.init()\n",
        "from pyspark.sql import SparkSession\n",
        "spark = SparkSession.builder.master(\"local[*]\").enableHiveSupport().getOrCreate()"
      ]
    },
    {
      "cell_type": "code",
      "execution_count": null,
      "metadata": {
        "colab": {
          "base_uri": "https://localhost:8080/",
          "height": 131
        },
        "id": "tA8OHr9lLk-t",
        "outputId": "4d91364f-802f-4643-a73f-1cf7326abcdf"
      },
      "outputs": [
        {
          "output_type": "display_data",
          "data": {
            "text/plain": [
              "<IPython.core.display.HTML object>"
            ],
            "text/html": [
              "\n",
              "     <input type=\"file\" id=\"files-849e172e-afea-4a95-b845-f9c76ba4707c\" name=\"files[]\" multiple disabled\n",
              "        style=\"border:none\" />\n",
              "     <output id=\"result-849e172e-afea-4a95-b845-f9c76ba4707c\">\n",
              "      Upload widget is only available when the cell has been executed in the\n",
              "      current browser session. Please rerun this cell to enable.\n",
              "      </output>\n",
              "      <script>// Copyright 2017 Google LLC\n",
              "//\n",
              "// Licensed under the Apache License, Version 2.0 (the \"License\");\n",
              "// you may not use this file except in compliance with the License.\n",
              "// You may obtain a copy of the License at\n",
              "//\n",
              "//      http://www.apache.org/licenses/LICENSE-2.0\n",
              "//\n",
              "// Unless required by applicable law or agreed to in writing, software\n",
              "// distributed under the License is distributed on an \"AS IS\" BASIS,\n",
              "// WITHOUT WARRANTIES OR CONDITIONS OF ANY KIND, either express or implied.\n",
              "// See the License for the specific language governing permissions and\n",
              "// limitations under the License.\n",
              "\n",
              "/**\n",
              " * @fileoverview Helpers for google.colab Python module.\n",
              " */\n",
              "(function(scope) {\n",
              "function span(text, styleAttributes = {}) {\n",
              "  const element = document.createElement('span');\n",
              "  element.textContent = text;\n",
              "  for (const key of Object.keys(styleAttributes)) {\n",
              "    element.style[key] = styleAttributes[key];\n",
              "  }\n",
              "  return element;\n",
              "}\n",
              "\n",
              "// Max number of bytes which will be uploaded at a time.\n",
              "const MAX_PAYLOAD_SIZE = 100 * 1024;\n",
              "\n",
              "function _uploadFiles(inputId, outputId) {\n",
              "  const steps = uploadFilesStep(inputId, outputId);\n",
              "  const outputElement = document.getElementById(outputId);\n",
              "  // Cache steps on the outputElement to make it available for the next call\n",
              "  // to uploadFilesContinue from Python.\n",
              "  outputElement.steps = steps;\n",
              "\n",
              "  return _uploadFilesContinue(outputId);\n",
              "}\n",
              "\n",
              "// This is roughly an async generator (not supported in the browser yet),\n",
              "// where there are multiple asynchronous steps and the Python side is going\n",
              "// to poll for completion of each step.\n",
              "// This uses a Promise to block the python side on completion of each step,\n",
              "// then passes the result of the previous step as the input to the next step.\n",
              "function _uploadFilesContinue(outputId) {\n",
              "  const outputElement = document.getElementById(outputId);\n",
              "  const steps = outputElement.steps;\n",
              "\n",
              "  const next = steps.next(outputElement.lastPromiseValue);\n",
              "  return Promise.resolve(next.value.promise).then((value) => {\n",
              "    // Cache the last promise value to make it available to the next\n",
              "    // step of the generator.\n",
              "    outputElement.lastPromiseValue = value;\n",
              "    return next.value.response;\n",
              "  });\n",
              "}\n",
              "\n",
              "/**\n",
              " * Generator function which is called between each async step of the upload\n",
              " * process.\n",
              " * @param {string} inputId Element ID of the input file picker element.\n",
              " * @param {string} outputId Element ID of the output display.\n",
              " * @return {!Iterable<!Object>} Iterable of next steps.\n",
              " */\n",
              "function* uploadFilesStep(inputId, outputId) {\n",
              "  const inputElement = document.getElementById(inputId);\n",
              "  inputElement.disabled = false;\n",
              "\n",
              "  const outputElement = document.getElementById(outputId);\n",
              "  outputElement.innerHTML = '';\n",
              "\n",
              "  const pickedPromise = new Promise((resolve) => {\n",
              "    inputElement.addEventListener('change', (e) => {\n",
              "      resolve(e.target.files);\n",
              "    });\n",
              "  });\n",
              "\n",
              "  const cancel = document.createElement('button');\n",
              "  inputElement.parentElement.appendChild(cancel);\n",
              "  cancel.textContent = 'Cancel upload';\n",
              "  const cancelPromise = new Promise((resolve) => {\n",
              "    cancel.onclick = () => {\n",
              "      resolve(null);\n",
              "    };\n",
              "  });\n",
              "\n",
              "  // Wait for the user to pick the files.\n",
              "  const files = yield {\n",
              "    promise: Promise.race([pickedPromise, cancelPromise]),\n",
              "    response: {\n",
              "      action: 'starting',\n",
              "    }\n",
              "  };\n",
              "\n",
              "  cancel.remove();\n",
              "\n",
              "  // Disable the input element since further picks are not allowed.\n",
              "  inputElement.disabled = true;\n",
              "\n",
              "  if (!files) {\n",
              "    return {\n",
              "      response: {\n",
              "        action: 'complete',\n",
              "      }\n",
              "    };\n",
              "  }\n",
              "\n",
              "  for (const file of files) {\n",
              "    const li = document.createElement('li');\n",
              "    li.append(span(file.name, {fontWeight: 'bold'}));\n",
              "    li.append(span(\n",
              "        `(${file.type || 'n/a'}) - ${file.size} bytes, ` +\n",
              "        `last modified: ${\n",
              "            file.lastModifiedDate ? file.lastModifiedDate.toLocaleDateString() :\n",
              "                                    'n/a'} - `));\n",
              "    const percent = span('0% done');\n",
              "    li.appendChild(percent);\n",
              "\n",
              "    outputElement.appendChild(li);\n",
              "\n",
              "    const fileDataPromise = new Promise((resolve) => {\n",
              "      const reader = new FileReader();\n",
              "      reader.onload = (e) => {\n",
              "        resolve(e.target.result);\n",
              "      };\n",
              "      reader.readAsArrayBuffer(file);\n",
              "    });\n",
              "    // Wait for the data to be ready.\n",
              "    let fileData = yield {\n",
              "      promise: fileDataPromise,\n",
              "      response: {\n",
              "        action: 'continue',\n",
              "      }\n",
              "    };\n",
              "\n",
              "    // Use a chunked sending to avoid message size limits. See b/62115660.\n",
              "    let position = 0;\n",
              "    do {\n",
              "      const length = Math.min(fileData.byteLength - position, MAX_PAYLOAD_SIZE);\n",
              "      const chunk = new Uint8Array(fileData, position, length);\n",
              "      position += length;\n",
              "\n",
              "      const base64 = btoa(String.fromCharCode.apply(null, chunk));\n",
              "      yield {\n",
              "        response: {\n",
              "          action: 'append',\n",
              "          file: file.name,\n",
              "          data: base64,\n",
              "        },\n",
              "      };\n",
              "\n",
              "      let percentDone = fileData.byteLength === 0 ?\n",
              "          100 :\n",
              "          Math.round((position / fileData.byteLength) * 100);\n",
              "      percent.textContent = `${percentDone}% done`;\n",
              "\n",
              "    } while (position < fileData.byteLength);\n",
              "  }\n",
              "\n",
              "  // All done.\n",
              "  yield {\n",
              "    response: {\n",
              "      action: 'complete',\n",
              "    }\n",
              "  };\n",
              "}\n",
              "\n",
              "scope.google = scope.google || {};\n",
              "scope.google.colab = scope.google.colab || {};\n",
              "scope.google.colab._files = {\n",
              "  _uploadFiles,\n",
              "  _uploadFilesContinue,\n",
              "};\n",
              "})(self);\n",
              "</script> "
            ]
          },
          "metadata": {}
        },
        {
          "output_type": "stream",
          "name": "stdout",
          "text": [
            "Saving cruise.csv to cruise.csv\n"
          ]
        },
        {
          "output_type": "execute_result",
          "data": {
            "text/plain": [
              "{'cruise.csv': b'Ship_name,Cruise_line,Age,Tonnage,passengers,length,cabins,passenger_density,crew\\nJourney,Azamara,6,30.276999999999997,6.94,5.94,3.55,42.64,3.55\\nQuest,Azamara,6,30.276999999999997,6.94,5.94,3.55,42.64,3.55\\nCelebration,Carnival,26,47.262,14.86,7.22,7.43,31.8,6.7\\nConquest,Carnival,11,110.0,29.74,9.53,14.88,36.99,19.1\\nDestiny,Carnival,17,101.353,26.42,8.92,13.21,38.36,10.0\\nEcstasy,Carnival,22,70.367,20.52,8.55,10.2,34.29,9.2\\nElation,Carnival,15,70.367,20.52,8.55,10.2,34.29,9.2\\nFantasy,Carnival,23,70.367,20.56,8.55,10.22,34.23,9.2\\nFascination,Carnival,19,70.367,20.52,8.55,10.2,34.29,9.2\\nFreedom,Carnival,6,110.23899999999999,37.0,9.51,14.87,29.79,11.5\\nGlory,Carnival,10,110.0,29.74,9.51,14.87,36.99,11.6\\nHoliday,Carnival,28,46.052,14.52,7.27,7.26,31.72,6.6\\nImagination,Carnival,18,70.367,20.52,8.55,10.2,34.29,9.2\\nInspiration,Carnival,17,70.367,20.52,8.55,10.2,34.29,9.2\\nLegend,Carnival,11,86.0,21.24,9.63,10.62,40.49,9.3\\nLiberty*,Carnival,8,110.0,29.74,9.51,14.87,36.99,11.6\\nMiracle,Carnival,9,88.5,21.24,9.63,10.62,41.67,10.3\\nParadise,Carnival,15,70.367,20.52,8.55,10.2,34.29,9.2\\nPride,Carnival,12,88.5,21.24,9.63,11.62,41.67,9.3\\nSensation,Carnival,20,70.367,20.52,8.55,10.2,34.29,9.2\\nSpirit,Carnival,12,88.5,21.24,9.63,10.56,41.67,10.29\\nTriumph,Carnival,14,101.509,27.58,8.93,13.21,36.81,10.0\\nValor,Carnival,9,110.0,29.74,9.52,14.87,36.99,11.6\\nVictory,Carnival,13,101.509,27.58,8.93,13.79,36.81,11.5\\nCentury,Celebrity,18,70.60600000000001,17.7,8.15,8.75,39.89,8.58\\nConstellation,Celebrity,11,91.0,20.32,9.65,9.75,44.78,9.99\\nGalaxy,Celebrity,17,77.71300000000001,18.9,8.66,9.35,41.12,9.09\\nInfinity,Celebrity,12,91.0,20.32,9.65,9.75,44.78,9.99\\nMercury,Celebrity,16,77.71300000000001,18.82,8.66,9.35,41.29,9.09\\nMillenium,Celebrity,13,91.0,20.32,9.65,9.75,44.78,9.99\\nSolstice,Celebrity,5,122.0,28.5,10.33,6.87,34.57,6.7\\nSummit,Celebrity,12,91.0,20.32,9.65,9.75,44.78,9.99\\nXpedition,Celebrity,12,2.329,0.94,2.96,0.45,24.78,0.6\\nZenith,Celebrity,21,47.225,13.66,6.82,6.87,34.57,6.7\\nAllegra,Costa,21,28.43,8.08,6.16,4.1,35.19,4.0\\nAtlantica,Costa,13,85.619,21.14,9.57,10.56,40.5,9.2\\nClassica,Costa,22,52.926,13.02,7.18,6.54,40.65,6.17\\nEuropa,Costa,27,53.872,14.94,7.98,7.67,36.06,6.36\\nFortuna,Costa,10,105.0,27.2,8.9,13.56,38.6,10.68\\nMagica,Costa,9,105.0,27.2,8.9,13.56,38.6,10.68\\nMarina,Costa,23,25.0,7.76,6.22,3.86,32.22,3.85\\nMediterranea,Costa,10,86.0,21.14,9.6,10.56,40.68,9.2\\nRomantica,Costa,20,53.049,13.44,7.22,6.78,39.47,6.0\\nSerena,Costa,6,112.0,38.0,9.51,15.0,29.47,10.9\\nVictoria,Costa,17,75.166,19.28,8.28,9.64,38.99,7.66\\nSerenity,Crystal,10,68.0,10.8,7.9,5.5,62.96,6.36\\nSymphony,Crystal,18,51.004,9.4,7.81,4.8,54.26,5.45\\nQueenElizabethII,Cunard,44,70.327,17.91,9.63,9.5,39.27,9.21\\nQueenMary2,Cunard,10,151.4,26.2,11.32,11.34,57.79,12.53\\nQueenVictoria,Cunard,6,90.0,20.0,9.64,10.29,45.0,9.0\\nMagic,Disney,15,83.338,17.5,9.64,8.75,47.62,9.45\\nWonder,Disney,14,83.0,17.5,9.64,8.75,47.43,9.45\\nAmsterdam,Holland_American,13,61.0,13.8,7.8,6.88,44.2,6.0\\nEurodam,Holland_American,5,86.0,21.04,9.36,10.22,40.87,8.0\\nMaasdam,Holland_American,20,55.451,12.64,7.19,6.32,43.87,5.57\\nNoordam,Holland_American,29,33.92,12.14,7.04,6.07,27.94,5.3\\nOosterdam,Holland_American,10,81.76899999999999,18.48,9.59,9.24,44.25,8.42\\nPrinsendam,Holland_American,25,38.0,7.49,6.74,3.96,50.73,4.6\\nRotterdam,Holland_American,16,59.652,13.2,7.77,6.6,45.19,6.44\\nRyndam,Holland_American,19,55.451,12.66,7.19,6.33,43.8,5.88\\nStatendam,Holland_American,20,55.451,12.66,7.19,6.33,43.8,5.88\\nVeendam,Holland_American,17,55.451,12.66,7.19,6.33,43.8,5.88\\nVolendam,Holland_American,14,63.0,14.4,7.77,7.2,43.75,5.61\\nWesterdam,Holland_American,27,53.872,14.94,7.98,7.47,36.06,6.12\\nZaandam,Holland_American,13,63.0,14.4,7.77,7.2,43.75,5.31\\nZuiderdam,Holland_American,11,85.0,18.48,9.51,9.24,46.0,8.0\\nArmonia,MSC,12,58.6,15.66,8.24,7.83,37.42,7.0\\nFantasia,MSC,5,133.5,39.59,10.93,16.37,33.72,13.13\\nLirica,MSC,10,58.825,15.6,8.23,7.65,37.71,7.0\\nMelody,MSC,31,35.143,12.5,6.69,5.32,28.11,5.35\\nMusica,MSC,7,89.6,25.5,9.61,12.75,35.14,9.87\\nOpera,MSC,9,59.058,17.0,7.63,8.5,34.74,7.4\\nRhapsody,MSC,36,16.852,9.52,5.41,3.83,17.7,2.97\\nSinfonia,MSC,11,58.6,15.66,8.23,7.83,37.42,7.6\\nCrown,Norwegian,25,34.25,10.52,6.15,5.26,32.56,4.7\\nDawn,Norwegian,11,90.0,22.4,9.65,11.2,40.18,11.0\\nDream,Norwegian,21,50.76,17.48,7.54,8.74,29.04,6.14\\nGem,Norwegian,6,93.0,23.94,9.65,11.97,38.85,11.09\\nJewel,Norwegian,8,91.0,22.44,9.65,11.22,40.55,11.0\\nMajesty,Norwegian,21,38.0,10.56,5.67,5.28,35.98,4.38\\nPrideofAloha,Norwegian,14,77.104,20.02,8.53,10.01,38.51,8.0\\nPrideofAmerica,Norwegian,9,81.0,21.44,9.21,10.72,37.78,10.0\\nSea,Norwegian,25,42.0,15.04,7.08,7.52,27.93,6.3\\nSpirit,Norwegian,15,75.33800000000001,19.56,8.79,9.83,38.52,13.0\\nStar,Norwegian,40,28.0,11.5,6.74,4.0,24.35,3.8\\nSun,Norwegian,12,77.104,20.02,8.53,10.01,38.51,9.59\\nWind,Norwegian,20,50.76,17.48,7.54,8.74,29.04,6.14\\nInsignia,Oceania,15,30.276999999999997,6.84,5.94,3.42,44.26,4.0\\nNautica,Oceania,13,30.276999999999997,6.84,5.94,3.42,44.26,4.0\\nRegatta,Oceania,15,30.276999999999997,6.84,5.94,3.42,44.26,4.0\\nMarcoPolo,Orient,48,22.08,8.26,5.78,4.25,26.73,3.5\\nArcadia,P&O,9,85.0,19.68,9.35,9.84,43.19,8.69\\nArtemis,P&O,29,45.0,11.78,7.54,5.3,38.2,5.2\\nAurora,P&O,13,76.0,18.74,8.86,9.39,40.55,8.5\\nOceana,P&O,10,77.0,20.16,8.56,9.75,38.19,9.0\\nOriana,P&O,18,69.153,18.82,8.53,9.14,36.74,7.94\\nVentura,P&O,5,115.0,35.74,9.0,15.32,32.18,12.2\\nCaribbean,Princess,9,116.0,26.0,9.51,13.0,44.62,11.0\\nCoral,Princess,11,91.62700000000001,19.74,9.64,9.87,46.42,9.0\\nCrown,Princess,7,116.0,31.0,9.51,15.57,37.42,12.0\\nDawn,Princess,16,77.499,19.5,8.56,10.5,39.74,9.0\\nDiamond,Princess,9,113.0,26.74,9.51,13.37,42.26,12.38\\nEmerald,Princess,6,113.0,37.82,9.51,15.57,29.88,12.0\\nGolden,Princess,12,108.865,27.58,9.51,13.0,39.47,11.0\\nGrand,Princess,15,108.806,26.0,9.51,13.0,41.85,11.1\\nIsland,Princess,10,91.62700000000001,19.74,9.64,9.87,46.42,9.0\\nPacific,Princess,14,30.276999999999997,6.86,5.93,3.44,44.14,3.73\\nRegal,Princess,22,69.845,15.9,8.03,7.95,43.93,6.96\\nRoyal,Princess,29,44.348,12.0,7.54,6.0,36.96,5.2\\nSaphire,Princess,9,113.0,26.74,9.51,13.37,42.26,12.38\\nSea,Princess,8,77.499,19.5,8.56,9.75,39.74,9.0\\nStar,Princess,11,108.977,26.02,9.51,13.01,41.88,12.0\\nSun,Princess,18,77.499,19.5,8.56,9.75,39.74,9.0\\nTahitian,Princess,14,30.276999999999997,6.88,5.93,3.44,44.01,3.73\\nExplorerII,Regent_Seven_Seas,27,12.5,3.94,4.36,0.88,31.73,1.46\\nMariner,Regent_Seven_Seas,12,50.0,7.0,7.09,3.54,71.43,4.45\\nNavigator,Regent_Seven_Seas,14,33.0,4.9,5.6,2.45,67.35,3.24\\nPaulGauguin,Regent_Seven_Seas,16,19.2,3.2,5.13,1.6,60.0,2.11\\nVoyager,Regent_Seven_Seas,10,46.0,7.0,6.7,1.82,65.71,4.47\\nAdventure,Royal_Caribbean,12,138.0,31.14,10.2,15.57,44.32,11.85\\nBrilliance,Royal_Caribbean,11,90.09,25.01,9.62,10.5,36.02,8.48\\nEmpress,Royal_Caribbean,23,48.563,20.2,6.92,8.0,24.04,6.71\\nEnchantment,Royal_Caribbean,16,74.137,19.5,9.16,9.75,38.02,7.6\\nExplorer,Royal_Caribbean,13,138.0,31.14,10.2,15.57,44.32,11.76\\nFreedom,Royal_Caribbean,7,158.0,43.7,11.12,18.0,36.16,13.6\\nGrandeur,Royal_Caribbean,17,74.137,19.5,9.16,9.75,38.02,7.6\\nIndependence,Royal_Caribbean,5,160.0,36.34,11.12,18.17,44.03,13.6\\nJewel,Royal_Caribbean,9,90.09,25.01,9.62,10.94,36.02,8.69\\nLegend,Royal_Caribbean,18,70.0,18.0,8.67,9.0,38.89,7.2\\nLiberty,Royal_Caribbean,6,158.0,43.7,11.25,18.0,36.16,13.6\\nMajesty,Royal_Caribbean,21,73.941,27.44,8.8,11.75,26.95,8.22\\nMariner,Royal_Caribbean,10,138.0,31.14,10.2,15.57,44.32,11.85\\nMonarch,Royal_Caribbean,22,73.941,27.44,8.8,11.77,30.94,8.22\\nNavigator,Royal_Caribbean,11,138.0,31.14,10.2,15.57,44.32,11.85\\nOasis,Royal_Caribbean,4,220.0,54.0,11.82,27.0,40.74,21.0\\nRadiance,Royal_Caribbean,12,90.09,25.01,9.62,10.5,36.02,8.68\\nRhapsody,Royal_Caribbean,16,78.491,24.35,9.15,10.0,32.23,7.65\\nSerenade,Royal_Caribbean,10,90.09,25.01,9.62,10.5,36.02,8.58\\nSovreign,Royal_Caribbean,25,73.192,28.52,8.8,11.38,25.66,8.08\\nSplendour,Royal_Caribbean,17,70.0,20.76,8.67,9.02,33.72,7.2\\nVision,Royal_Caribbean,15,78.491,24.35,9.15,10.0,32.23,6.6\\nVoyager,Royal_Caribbean,14,138.0,31.14,10.2,15.57,44.32,11.76\\nLegend,Seabourn,21,10.0,2.08,4.4,1.04,48.08,1.6\\nPride,Seabourn,27,10.0,2.08,4.4,1.04,48.08,1.6\\nSpirit,Seabourn,24,10.0,2.08,4.4,1.04,48.08,1.6\\nCloud,Silversea,19,16.8,2.96,5.14,1.48,56.76,2.1\\nShadow,Silversea,13,25.0,3.82,5.97,1.94,65.45,2.95\\nWhisper,Silversea,12,25.0,3.88,5.97,1.94,64.43,2.87\\nWind,Silversea,19,16.8,2.96,5.14,1.48,56.76,1.97\\nAries,Star,22,3.341,0.66,2.8,0.33,50.62,0.59\\nGemini,Star,21,19.093,8.0,5.37,4.0,23.87,4.7\\nLibra,Star,12,42.0,14.8,7.13,7.4,28.38,6.8\\nPisces,Star,24,40.053000000000004,12.87,5.79,7.76,31.12,7.5\\nTaurus,Star,22,3.341,0.66,2.79,0.33,50.62,0.59\\nVirgo,Star,14,76.8,19.6,8.79,9.67,39.18,12.0\\nSpirit,Windstar,25,5.35,1.58,4.4,0.74,33.86,0.88\\nStar,Windstar,27,5.35,1.67,4.4,0.74,32.04,0.88\\nSurf,Windstar,23,14.745,3.08,6.17,1.56,47.87,1.8\\n'}"
            ]
          },
          "metadata": {},
          "execution_count": 6
        }
      ],
      "source": [
        "from google.colab import files\n",
        "files.upload()"
      ]
    },
    {
      "cell_type": "code",
      "execution_count": null,
      "metadata": {
        "id": "mDjVq8mOLoER"
      },
      "outputs": [],
      "source": [
        "df = spark.read.csv('cruise.csv',inferSchema=True, header = True)"
      ]
    },
    {
      "cell_type": "code",
      "execution_count": null,
      "metadata": {
        "colab": {
          "base_uri": "https://localhost:8080/"
        },
        "id": "MvomB_4uLtuF",
        "outputId": "faa3fd8e-656b-43cc-8534-4dc2387f9955"
      },
      "outputs": [
        {
          "output_type": "stream",
          "name": "stdout",
          "text": [
            "+-----------+-----------+---+------------------+----------+------+------+-----------------+----+\n",
            "|  Ship_name|Cruise_line|Age|           Tonnage|passengers|length|cabins|passenger_density|crew|\n",
            "+-----------+-----------+---+------------------+----------+------+------+-----------------+----+\n",
            "|    Journey|    Azamara|  6|30.276999999999997|      6.94|  5.94|  3.55|            42.64|3.55|\n",
            "|      Quest|    Azamara|  6|30.276999999999997|      6.94|  5.94|  3.55|            42.64|3.55|\n",
            "|Celebration|   Carnival| 26|            47.262|     14.86|  7.22|  7.43|             31.8| 6.7|\n",
            "|   Conquest|   Carnival| 11|             110.0|     29.74|  9.53| 14.88|            36.99|19.1|\n",
            "|    Destiny|   Carnival| 17|           101.353|     26.42|  8.92| 13.21|            38.36|10.0|\n",
            "+-----------+-----------+---+------------------+----------+------+------+-----------------+----+\n",
            "only showing top 5 rows\n",
            "\n"
          ]
        }
      ],
      "source": [
        "df.show(5)"
      ]
    },
    {
      "cell_type": "code",
      "execution_count": null,
      "metadata": {
        "colab": {
          "base_uri": "https://localhost:8080/"
        },
        "id": "tWFV8G8_LycA",
        "outputId": "168cfc4b-3008-4b2e-c4b8-ceee870026c7"
      },
      "outputs": [
        {
          "output_type": "stream",
          "name": "stdout",
          "text": [
            "root\n",
            " |-- Ship_name: string (nullable = true)\n",
            " |-- Cruise_line: string (nullable = true)\n",
            " |-- Age: integer (nullable = true)\n",
            " |-- Tonnage: double (nullable = true)\n",
            " |-- passengers: double (nullable = true)\n",
            " |-- length: double (nullable = true)\n",
            " |-- cabins: double (nullable = true)\n",
            " |-- passenger_density: double (nullable = true)\n",
            " |-- crew: double (nullable = true)\n",
            "\n"
          ]
        }
      ],
      "source": [
        "df.printSchema()"
      ]
    },
    {
      "cell_type": "code",
      "source": [
        "df.count()"
      ],
      "metadata": {
        "colab": {
          "base_uri": "https://localhost:8080/"
        },
        "id": "bW_vGkGyF0OI",
        "outputId": "4a66d38b-993d-475c-8251-7eaed87e0ec8"
      },
      "execution_count": null,
      "outputs": [
        {
          "output_type": "execute_result",
          "data": {
            "text/plain": [
              "158"
            ]
          },
          "metadata": {},
          "execution_count": 29
        }
      ]
    },
    {
      "cell_type": "code",
      "source": [
        "df.describe().show()"
      ],
      "metadata": {
        "colab": {
          "base_uri": "https://localhost:8080/"
        },
        "id": "-QVJl6XeIDYI",
        "outputId": "96e868df-dcb0-4961-bf30-b641b274567d"
      },
      "execution_count": null,
      "outputs": [
        {
          "output_type": "stream",
          "name": "stdout",
          "text": [
            "+-------+---------+-----------+------------------+------------------+-----------------+-----------------+------------------+-----------------+-----------------+\n",
            "|summary|Ship_name|Cruise_line|               Age|           Tonnage|       passengers|           length|            cabins|passenger_density|             crew|\n",
            "+-------+---------+-----------+------------------+------------------+-----------------+-----------------+------------------+-----------------+-----------------+\n",
            "|  count|      158|        158|               158|               158|              158|              158|               158|              158|              158|\n",
            "|   mean| Infinity|       null|15.689873417721518| 71.28467088607599|18.45740506329114|8.130632911392404| 8.830000000000005|39.90094936708861|7.794177215189873|\n",
            "| stddev|      NaN|       null| 7.615691058751413|37.229540025907866|9.677094775143416|1.793473548054825|4.4714172221480615| 8.63921711391542|3.503486564627034|\n",
            "|    min|Adventure|    Azamara|                 4|             2.329|             0.66|             2.79|              0.33|             17.7|             0.59|\n",
            "|    max|Zuiderdam|   Windstar|                48|             220.0|             54.0|            11.82|              27.0|            71.43|             21.0|\n",
            "+-------+---------+-----------+------------------+------------------+-----------------+-----------------+------------------+-----------------+-----------------+\n",
            "\n"
          ]
        }
      ]
    },
    {
      "cell_type": "code",
      "execution_count": null,
      "metadata": {
        "colab": {
          "base_uri": "https://localhost:8080/"
        },
        "id": "VJcLzHQDL63k",
        "outputId": "9a517fd2-9a92-42d6-adde-6dc568f92bfc"
      },
      "outputs": [
        {
          "output_type": "stream",
          "name": "stdout",
          "text": [
            "+------------+-----+\n",
            "|   Ship_name|count|\n",
            "+------------+-----+\n",
            "|       Virgo|    1|\n",
            "|     Fortuna|    1|\n",
            "|      Shadow|    1|\n",
            "|     Empress|    1|\n",
            "|        Wind|    2|\n",
            "|    Paradise|    1|\n",
            "|        Surf|    1|\n",
            "|      Wonder|    1|\n",
            "|       Magic|    1|\n",
            "|    Symphony|    1|\n",
            "|    Sinfonia|    1|\n",
            "| Inspiration|    1|\n",
            "|   Millenium|    1|\n",
            "|    Solstice|    1|\n",
            "|PrideofAloha|    1|\n",
            "|     Majesty|    2|\n",
            "|     Ventura|    1|\n",
            "|   Romantica|    1|\n",
            "|      Spirit|    4|\n",
            "|       Oasis|    1|\n",
            "+------------+-----+\n",
            "only showing top 20 rows\n",
            "\n"
          ]
        }
      ],
      "source": [
        "df.groupBy('Ship_name').count().show()"
      ]
    },
    {
      "cell_type": "code",
      "source": [
        "df.groupBy('Cruise_line').count().show()"
      ],
      "metadata": {
        "colab": {
          "base_uri": "https://localhost:8080/"
        },
        "id": "YKCaQpdJscax",
        "outputId": "2f9e49ff-4db8-4fc9-ade5-89bdc9bf43ac"
      },
      "execution_count": null,
      "outputs": [
        {
          "output_type": "stream",
          "name": "stdout",
          "text": [
            "+-----------------+-----+\n",
            "|      Cruise_line|count|\n",
            "+-----------------+-----+\n",
            "|            Costa|   11|\n",
            "|              P&O|    6|\n",
            "|           Cunard|    3|\n",
            "|Regent_Seven_Seas|    5|\n",
            "|              MSC|    8|\n",
            "|         Carnival|   22|\n",
            "|          Crystal|    2|\n",
            "|           Orient|    1|\n",
            "|         Princess|   17|\n",
            "|        Silversea|    4|\n",
            "|         Seabourn|    3|\n",
            "| Holland_American|   14|\n",
            "|         Windstar|    3|\n",
            "|           Disney|    2|\n",
            "|        Norwegian|   13|\n",
            "|          Oceania|    3|\n",
            "|          Azamara|    2|\n",
            "|        Celebrity|   10|\n",
            "|             Star|    6|\n",
            "|  Royal_Caribbean|   23|\n",
            "+-----------------+-----+\n",
            "\n"
          ]
        }
      ]
    },
    {
      "cell_type": "code",
      "source": [
        "from pyspark.sql.functions import corr\n",
        "[df.select(corr('crew',column)).show ()for column in df.columns]"
      ],
      "metadata": {
        "colab": {
          "base_uri": "https://localhost:8080/"
        },
        "id": "kC32TqGvy68z",
        "outputId": "f14bc601-957f-4dd9-8aa0-c115ff6d1cfd"
      },
      "execution_count": null,
      "outputs": [
        {
          "output_type": "stream",
          "name": "stdout",
          "text": [
            "+---------------------+\n",
            "|corr(crew, Ship_name)|\n",
            "+---------------------+\n",
            "|                  NaN|\n",
            "+---------------------+\n",
            "\n",
            "+-----------------------+\n",
            "|corr(crew, Cruise_line)|\n",
            "+-----------------------+\n",
            "|                   null|\n",
            "+-----------------------+\n",
            "\n",
            "+-------------------+\n",
            "|    corr(crew, Age)|\n",
            "+-------------------+\n",
            "|-0.5306565039638852|\n",
            "+-------------------+\n",
            "\n",
            "+-------------------+\n",
            "|corr(crew, Tonnage)|\n",
            "+-------------------+\n",
            "| 0.9275698647851732|\n",
            "+-------------------+\n",
            "\n",
            "+----------------------+\n",
            "|corr(crew, passengers)|\n",
            "+----------------------+\n",
            "|    0.9152341306065384|\n",
            "+----------------------+\n",
            "\n",
            "+------------------+\n",
            "|corr(crew, length)|\n",
            "+------------------+\n",
            "|0.8958566271016579|\n",
            "+------------------+\n",
            "\n",
            "+------------------+\n",
            "|corr(crew, cabins)|\n",
            "+------------------+\n",
            "|0.9508226063578497|\n",
            "+------------------+\n",
            "\n",
            "+-----------------------------+\n",
            "|corr(crew, passenger_density)|\n",
            "+-----------------------------+\n",
            "|         -0.15550928421699717|\n",
            "+-----------------------------+\n",
            "\n",
            "+----------------+\n",
            "|corr(crew, crew)|\n",
            "+----------------+\n",
            "|             1.0|\n",
            "+----------------+\n",
            "\n",
            "+----------------------+\n",
            "|corr(crew, Ship_names)|\n",
            "+----------------------+\n",
            "|  -0.05906254041293...|\n",
            "+----------------------+\n",
            "\n",
            "+------------------------+\n",
            "|corr(crew, Cruise_lines)|\n",
            "+------------------------+\n",
            "|     -0.5154627327113319|\n",
            "+------------------------+\n",
            "\n"
          ]
        },
        {
          "output_type": "execute_result",
          "data": {
            "text/plain": [
              "[None, None, None, None, None, None, None, None, None, None, None]"
            ]
          },
          "metadata": {},
          "execution_count": 42
        }
      ]
    },
    {
      "cell_type": "code",
      "execution_count": null,
      "metadata": {
        "colab": {
          "base_uri": "https://localhost:8080/"
        },
        "id": "gPc2b13ZMVNc",
        "outputId": "b9701e6f-aada-479e-c8cd-adbcf0e5e789"
      },
      "outputs": [
        {
          "output_type": "stream",
          "name": "stdout",
          "text": [
            "+-----------+-----------+---+------------------+----------+------+------+-----------------+----+----------+------------+\n",
            "|  Ship_name|Cruise_line|Age|           Tonnage|passengers|length|cabins|passenger_density|crew|Ship_names|Cruise_lines|\n",
            "+-----------+-----------+---+------------------+----------+------+------+-----------------+----+----------+------------+\n",
            "|    Journey|    Azamara|  6|30.276999999999997|      6.94|  5.94|  3.55|            42.64|3.55|      64.0|        16.0|\n",
            "|      Quest|    Azamara|  6|30.276999999999997|      6.94|  5.94|  3.55|            42.64|3.55|      98.0|        16.0|\n",
            "|Celebration|   Carnival| 26|            47.262|     14.86|  7.22|  7.43|             31.8| 6.7|      27.0|         1.0|\n",
            "|   Conquest|   Carnival| 11|             110.0|     29.74|  9.53| 14.88|            36.99|19.1|      31.0|         1.0|\n",
            "|    Destiny|   Carnival| 17|           101.353|     26.42|  8.92| 13.21|            38.36|10.0|      34.0|         1.0|\n",
            "|    Ecstasy|   Carnival| 22|            70.367|     20.52|  8.55|  10.2|            34.29| 9.2|      37.0|         1.0|\n",
            "|    Elation|   Carnival| 15|            70.367|     20.52|  8.55|  10.2|            34.29| 9.2|      38.0|         1.0|\n",
            "|    Fantasy|   Carnival| 23|            70.367|     20.56|  8.55| 10.22|            34.23| 9.2|      47.0|         1.0|\n",
            "|Fascination|   Carnival| 19|            70.367|     20.52|  8.55|  10.2|            34.29| 9.2|      48.0|         1.0|\n",
            "|    Freedom|   Carnival|  6|110.23899999999999|      37.0|  9.51| 14.87|            29.79|11.5|       5.0|         1.0|\n",
            "|      Glory|   Carnival| 10|             110.0|     29.74|  9.51| 14.87|            36.99|11.6|      53.0|         1.0|\n",
            "|    Holiday|   Carnival| 28|            46.052|     14.52|  7.27|  7.26|            31.72| 6.6|      57.0|         1.0|\n",
            "|Imagination|   Carnival| 18|            70.367|     20.52|  8.55|  10.2|            34.29| 9.2|      58.0|         1.0|\n",
            "|Inspiration|   Carnival| 17|            70.367|     20.52|  8.55|  10.2|            34.29| 9.2|      62.0|         1.0|\n",
            "|     Legend|   Carnival| 11|              86.0|     21.24|  9.63| 10.62|            40.49| 9.3|       1.0|         1.0|\n",
            "|   Liberty*|   Carnival|  8|             110.0|     29.74|  9.51| 14.87|            36.99|11.6|      66.0|         1.0|\n",
            "|    Miracle|   Carnival|  9|              88.5|     21.24|  9.63| 10.62|            41.67|10.3|      78.0|         1.0|\n",
            "|   Paradise|   Carnival| 15|            70.367|     20.52|  8.55|  10.2|            34.29| 9.2|      89.0|         1.0|\n",
            "|      Pride|   Carnival| 12|              88.5|     21.24|  9.63| 11.62|            41.67| 9.3|      10.0|         1.0|\n",
            "|  Sensation|   Carnival| 20|            70.367|     20.52|  8.55|  10.2|            34.29| 9.2|     107.0|         1.0|\n",
            "+-----------+-----------+---+------------------+----------+------+------+-----------------+----+----------+------------+\n",
            "only showing top 20 rows\n",
            "\n"
          ]
        }
      ],
      "source": [
        "# Data preprocessing\n",
        "\n",
        "from pyspark.ml.feature import StringIndexer\n",
        "\n",
        "indexer = StringIndexer(inputCols=[\"Ship_name\",\"Cruise_line\"], outputCols=[\"Ship_names\",\"Cruise_lines\"])\n",
        "df = indexer.fit(df).transform(df)\n",
        "df.show()"
      ]
    },
    {
      "cell_type": "code",
      "source": [
        "from pyspark.sql.functions import round, col\n",
        "for c in df.columns:\n",
        "  df = df.withColumn(c ,round(c,2))\n",
        "\n",
        "df.show()"
      ],
      "metadata": {
        "colab": {
          "base_uri": "https://localhost:8080/"
        },
        "id": "2QWq75HAyzEa",
        "outputId": "920c862f-081f-42ce-a034-983abcbd657c"
      },
      "execution_count": null,
      "outputs": [
        {
          "output_type": "stream",
          "name": "stdout",
          "text": [
            "+---------+-----------+---+-------+----------+------+------+-----------------+----+----------+------------+\n",
            "|Ship_name|Cruise_line|Age|Tonnage|passengers|length|cabins|passenger_density|crew|Ship_names|Cruise_lines|\n",
            "+---------+-----------+---+-------+----------+------+------+-----------------+----+----------+------------+\n",
            "|     null|       null|  6|  30.28|      6.94|  5.94|  3.55|            42.64|3.55|      64.0|        16.0|\n",
            "|     null|       null|  6|  30.28|      6.94|  5.94|  3.55|            42.64|3.55|      98.0|        16.0|\n",
            "|     null|       null| 26|  47.26|     14.86|  7.22|  7.43|             31.8| 6.7|      27.0|         1.0|\n",
            "|     null|       null| 11|  110.0|     29.74|  9.53| 14.88|            36.99|19.1|      31.0|         1.0|\n",
            "|     null|       null| 17| 101.35|     26.42|  8.92| 13.21|            38.36|10.0|      34.0|         1.0|\n",
            "|     null|       null| 22|  70.37|     20.52|  8.55|  10.2|            34.29| 9.2|      37.0|         1.0|\n",
            "|     null|       null| 15|  70.37|     20.52|  8.55|  10.2|            34.29| 9.2|      38.0|         1.0|\n",
            "|     null|       null| 23|  70.37|     20.56|  8.55| 10.22|            34.23| 9.2|      47.0|         1.0|\n",
            "|     null|       null| 19|  70.37|     20.52|  8.55|  10.2|            34.29| 9.2|      48.0|         1.0|\n",
            "|     null|       null|  6| 110.24|      37.0|  9.51| 14.87|            29.79|11.5|       5.0|         1.0|\n",
            "|     null|       null| 10|  110.0|     29.74|  9.51| 14.87|            36.99|11.6|      53.0|         1.0|\n",
            "|     null|       null| 28|  46.05|     14.52|  7.27|  7.26|            31.72| 6.6|      57.0|         1.0|\n",
            "|     null|       null| 18|  70.37|     20.52|  8.55|  10.2|            34.29| 9.2|      58.0|         1.0|\n",
            "|     null|       null| 17|  70.37|     20.52|  8.55|  10.2|            34.29| 9.2|      62.0|         1.0|\n",
            "|     null|       null| 11|   86.0|     21.24|  9.63| 10.62|            40.49| 9.3|       1.0|         1.0|\n",
            "|     null|       null|  8|  110.0|     29.74|  9.51| 14.87|            36.99|11.6|      66.0|         1.0|\n",
            "|     null|       null|  9|   88.5|     21.24|  9.63| 10.62|            41.67|10.3|      78.0|         1.0|\n",
            "|     null|       null| 15|  70.37|     20.52|  8.55|  10.2|            34.29| 9.2|      89.0|         1.0|\n",
            "|     null|       null| 12|   88.5|     21.24|  9.63| 11.62|            41.67| 9.3|      10.0|         1.0|\n",
            "|     null|       null| 20|  70.37|     20.52|  8.55|  10.2|            34.29| 9.2|     107.0|         1.0|\n",
            "+---------+-----------+---+-------+----------+------+------+-----------------+----+----------+------------+\n",
            "only showing top 20 rows\n",
            "\n"
          ]
        }
      ]
    },
    {
      "cell_type": "code",
      "execution_count": null,
      "metadata": {
        "colab": {
          "base_uri": "https://localhost:8080/"
        },
        "id": "vCSfxBl0Nnxk",
        "outputId": "70beb84d-9f37-4074-9157-ddc8e0e7611b"
      },
      "outputs": [
        {
          "output_type": "execute_result",
          "data": {
            "text/plain": [
              "['Ship_name',\n",
              " 'Cruise_line',\n",
              " 'Age',\n",
              " 'Tonnage',\n",
              " 'passengers',\n",
              " 'length',\n",
              " 'cabins',\n",
              " 'passenger_density',\n",
              " 'crew',\n",
              " 'Ship_names',\n",
              " 'Cruise_lines']"
            ]
          },
          "metadata": {},
          "execution_count": 14
        }
      ],
      "source": [
        "sdf.columns"
      ]
    },
    {
      "cell_type": "code",
      "execution_count": null,
      "metadata": {
        "colab": {
          "base_uri": "https://localhost:8080/"
        },
        "id": "xoiNDG4wMpgr",
        "outputId": "1824d71a-8c89-4b21-d15c-779118ebf275"
      },
      "outputs": [
        {
          "output_type": "stream",
          "name": "stdout",
          "text": [
            "+--------------------+----+\n",
            "|          Attributes|crew|\n",
            "+--------------------+----+\n",
            "|[6.0,30.276999999...|3.55|\n",
            "|[6.0,30.276999999...|3.55|\n",
            "|[26.0,47.262,14.8...| 6.7|\n",
            "|[11.0,110.0,29.74...|19.1|\n",
            "|[17.0,101.353,26....|10.0|\n",
            "|[22.0,70.367,20.5...| 9.2|\n",
            "|[15.0,70.367,20.5...| 9.2|\n",
            "|[23.0,70.367,20.5...| 9.2|\n",
            "|[19.0,70.367,20.5...| 9.2|\n",
            "|[6.0,110.23899999...|11.5|\n",
            "|[10.0,110.0,29.74...|11.6|\n",
            "|[28.0,46.052,14.5...| 6.6|\n",
            "|[18.0,70.367,20.5...| 9.2|\n",
            "|[17.0,70.367,20.5...| 9.2|\n",
            "|[11.0,86.0,21.24,...| 9.3|\n",
            "|[8.0,110.0,29.74,...|11.6|\n",
            "|[9.0,88.5,21.24,9...|10.3|\n",
            "|[15.0,70.367,20.5...| 9.2|\n",
            "|[12.0,88.5,21.24,...| 9.3|\n",
            "|[20.0,70.367,20.5...| 9.2|\n",
            "+--------------------+----+\n",
            "only showing top 20 rows\n",
            "\n"
          ]
        }
      ],
      "source": [
        "from pyspark.ml.feature import VectorAssembler\n",
        "\n",
        "assembler = VectorAssembler(inputCols=['Age','Tonnage','passengers','length','cabins','passenger_density','Ship_names','Cruise_lines'],outputCol=\"Attributes\")\n",
        "output = assembler.transform(df)\n",
        "\n",
        "finalized_data = output.select(\"Attributes\",\"crew\")\n",
        "\n",
        "finalized_data.show()"
      ]
    },
    {
      "cell_type": "code",
      "execution_count": null,
      "metadata": {
        "id": "tWsm80HbNkxF"
      },
      "outputs": [],
      "source": [
        "train_data,test_data = finalized_data.randomSplit([0.7,0.3])\n"
      ]
    },
    {
      "cell_type": "code",
      "execution_count": null,
      "metadata": {
        "id": "18oHDHotPDQe"
      },
      "outputs": [],
      "source": [
        "from pyspark.ml.regression import LinearRegression\n",
        "lr = LinearRegression(featuresCol = 'Attributes',labelCol='crew')"
      ]
    },
    {
      "cell_type": "code",
      "execution_count": null,
      "metadata": {
        "colab": {
          "base_uri": "https://localhost:8080/"
        },
        "id": "9bjeDq5bPu10",
        "outputId": "3073b037-3483-459f-958c-b6638c0dbf6a"
      },
      "outputs": [
        {
          "output_type": "stream",
          "name": "stdout",
          "text": [
            "+--------------------+-----+------------------+\n",
            "|          Attributes| crew|        prediction|\n",
            "+--------------------+-----+------------------+\n",
            "|[5.0,86.0,21.04,9...|  8.0| 9.425402420376626|\n",
            "|[5.0,160.0,36.34,...| 13.6|15.235456484610397|\n",
            "|[6.0,93.0,23.94,9...|11.09| 10.76044922752544|\n",
            "|[6.0,110.23899999...| 11.5|11.299394409199168|\n",
            "|[7.0,89.6,25.5,9....| 9.87|11.319141341089761|\n",
            "|[7.0,116.0,31.0,9...| 12.0|12.919091043966507|\n",
            "|[8.0,110.0,29.74,...| 11.6|12.251881511287479|\n",
            "|[9.0,90.09,25.01,...| 8.69| 9.427287018792352|\n",
            "|[9.0,110.0,29.74,...| 11.6|12.139405696167742|\n",
            "|[9.0,113.0,26.74,...|12.38|11.372155169223529|\n",
            "|[9.0,116.0,26.0,9...| 11.0|11.318669895568505|\n",
            "|[10.0,81.76899999...| 8.42| 8.864982946962881|\n",
            "|[10.0,90.09,25.01...| 8.58| 8.837199337341662|\n",
            "|[10.0,105.0,27.2,...|10.68| 11.44023257502892|\n",
            "|[11.0,58.6,15.66,...|  7.6| 7.492506822286755|\n",
            "|[11.0,91.62700000...|  9.0| 9.333006993222488|\n",
            "|[11.0,108.977,26....| 12.0|11.296992149403668|\n",
            "|[12.0,2.329,0.94,...|  0.6|0.3347530846725961|\n",
            "|[12.0,50.0,7.0,7....| 4.45| 4.683776054167632|\n",
            "|[12.0,91.0,20.32,...| 9.99| 9.354836965121615|\n",
            "+--------------------+-----+------------------+\n",
            "only showing top 20 rows\n",
            "\n"
          ]
        }
      ],
      "source": [
        "#learn to fit the model from training set\n",
        "lrModel = lr.fit(train_data)\n",
        "\n",
        "#To predict on testing set\n",
        "pred = lrModel.evaluate(test_data)\n",
        "\n",
        "#Predict the model\n",
        "pred.predictions.show()\n",
        "  "
      ]
    },
    {
      "cell_type": "code",
      "source": [
        "lr_model = pred.predictions\n",
        "\n",
        "x_ax = range(0, lr_model.count())\n",
        "y_pred = lr_model.select(\"prediction\").collect()\n",
        "y_orig = lr_model.select(\"crew\").collect()"
      ],
      "metadata": {
        "id": "AqxXjm8D67zx"
      },
      "execution_count": null,
      "outputs": []
    },
    {
      "cell_type": "code",
      "source": [
        "import matplotlib.pyplot as plt\n",
        "\n",
        "\n",
        "plt.plot(x_ax, y_orig, label=\"original\")\n",
        "plt.plot(x_ax, y_pred, label=\"predicted\")\n",
        "plt.title(\"Crew data and predicted data\")\n",
        "plt.xlabel('X-axis')\n",
        "plt.ylabel('Y-axis')\n",
        "plt.legend(loc='best',fancybox=True, shadow=True)\n",
        "plt.grid(True)\n",
        "plt.show()  "
      ],
      "metadata": {
        "colab": {
          "base_uri": "https://localhost:8080/",
          "height": 295
        },
        "id": "yew_pRHJ7l8i",
        "outputId": "d92e2f2a-7dbe-46e3-d2fd-acf2870ec0a8"
      },
      "execution_count": null,
      "outputs": [
        {
          "output_type": "display_data",
          "data": {
            "text/plain": [
              "<Figure size 432x288 with 1 Axes>"
            ],
            "image/png": "[encoded data removed]"
          },
          "metadata": {
            "needs_background": "light"
          }
        }
      ]
    },
    {
      "cell_type": "code",
      "source": [
        "from pyspark.ml.regression import LinearRegression\n",
        "\n",
        "print(\"Coefficients: \", lrModel.coefficients)\n",
        "print(\"Intercept: \", lrModel.intercept)"
      ],
      "metadata": {
        "colab": {
          "base_uri": "https://localhost:8080/"
        },
        "id": "zy--GEaZ8ybB",
        "outputId": "be09f4e4-f579-49cd-9275-6b242b3d79e2"
      },
      "execution_count": null,
      "outputs": [
        {
          "output_type": "stream",
          "name": "stdout",
          "text": [
            "Coefficients:  [-0.01326993764593036,0.008047638817663776,-0.15473299692599785,0.4525934725094404,0.8849375893295364,-0.0043611051401093535,-0.0018198563543666542,0.06838535060834496]\n",
            "Intercept:  -1.1755833578914037\n"
          ]
        }
      ]
    },
    {
      "cell_type": "code",
      "execution_count": null,
      "metadata": {
        "colab": {
          "base_uri": "https://localhost:8080/"
        },
        "id": "y0elCH9WQJ5A",
        "outputId": "6bdcbeed-f137-4315-80dc-148e18ccf6f6"
      },
      "outputs": [
        {
          "output_type": "stream",
          "name": "stdout",
          "text": [
            "RMSE : 0.722\n",
            "MSE : 0.521\n",
            "MAE : 0.598\n",
            "r2 : 0.946\n"
          ]
        }
      ],
      "source": [
        "  from pyspark.ml.evaluation import RegressionEvaluator\n",
        "\n",
        "eval = RegressionEvaluator(labelCol=\"crew\",predictionCol=\"prediction\")\n",
        "\n",
        "#Root Mean Square Error\n",
        "rmse = eval.evaluate(pred.predictions, {eval.metricName :\"rmse\"})\n",
        "print(\"RMSE : %.3f\" % rmse)\n",
        "\n",
        "#Mean Sqaure Error\n",
        "mse = eval.evaluate(pred.predictions,{eval.metricName :\"mse\"})\n",
        "print(\"MSE : %.3f\" %mse)\n",
        "\n",
        "#Mean absolute Error\n",
        "mae = eval.evaluate(pred.predictions, {eval.metricName: \"mae\"})\n",
        "print(\"MAE : %.3f\" %mae)\n",
        "\n",
        "# r2 - coefficient of determination\n",
        "r2 = eval.evaluate(pred.predictions, {eval.metricName : \"r2\"})\n",
        "print(\"r2 : %.3f\" %r2)"
      ]
    },
    {
      "cell_type": "code",
      "execution_count": null,
      "metadata": {
        "id": "rEnA1101QMmw"
      },
      "outputs": [],
      "source": []
    }
  ],
  "metadata": {
    "colab": {
      "provenance": []
    },
    "kernelspec": {
      "display_name": "Python 3",
      "name": "python3"
    },
    "language_info": {
      "name": "python"
    }
  },
  "nbformat": 4,
  "nbformat_minor": 0
}